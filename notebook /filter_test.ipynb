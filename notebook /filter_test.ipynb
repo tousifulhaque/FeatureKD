{
 "cells": [
  {
   "cell_type": "code",
   "execution_count": null,
   "metadata": {},
   "outputs": [],
   "source": [
    "from utils.dataset import prepare_smartfallmm, split_by_subjects"
   ]
  },
  {
   "cell_type": "code",
   "execution_count": null,
   "metadata": {},
   "outputs": [],
   "source": [
    "builder = prepare_smartfallmm(arg)\n",
    "\n",
    "norm_train = split_by_subjects(builder, train_subjects) \n",
    "            # print(norm_train['skeleton'].shape)\n",
    "norm_val = split_by_subjects(builder , test_subject)"
   ]
  }
 ],
 "metadata": {
  "kernelspec": {
   "display_name": "lighthart_env",
   "language": "python",
   "name": "python3"
  },
  "language_info": {
   "name": "python",
   "version": "3.10.16"
  }
 },
 "nbformat": 4,
 "nbformat_minor": 2
}
